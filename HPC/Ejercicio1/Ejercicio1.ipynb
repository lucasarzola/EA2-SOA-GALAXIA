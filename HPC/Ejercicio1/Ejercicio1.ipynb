{
  "nbformat": 4,
  "nbformat_minor": 0,
  "metadata": {
    "colab": {
      "name": "Ejercicio1.ipynb",
      "provenance": [],
      "collapsed_sections": []
    },
    "kernelspec": {
      "name": "python3",
      "display_name": "Python 3"
    }
  },
  "cells": [
    {
      "cell_type": "code",
      "metadata": {
        "id": "6g-2UPtOlEGc"
      },
      "source": [
        ""
      ],
      "execution_count": null,
      "outputs": []
    },
    {
      "cell_type": "markdown",
      "metadata": {
        "id": "ZziVpbQulGA6"
      },
      "source": [
        "# 1 Introducción\n",
        "\n",
        "El siguiente cuaderno realiza lo siguiente..."
      ]
    },
    {
      "cell_type": "markdown",
      "metadata": {
        "id": "Ll7f5zTRlQRj"
      },
      "source": [
        "---\n",
        "# 2 Armado del ambiente\n"
      ]
    },
    {
      "cell_type": "markdown",
      "metadata": {
        "id": "_ZSyvriolXg1"
      },
      "source": [
        "---\n",
        "# 3 Desarrollo"
      ]
    },
    {
      "cell_type": "markdown",
      "metadata": {
        "id": "LDaxfIvQlcGX"
      },
      "source": [
        "---\n",
        "# 4 Tabla de Pasos"
      ]
    },
    {
      "cell_type": "markdown",
      "metadata": {
        "id": "XCxijhQnlmUr"
      },
      "source": [
        "---\n",
        "#5 Conclusiones"
      ]
    },
    {
      "cell_type": "markdown",
      "metadata": {
        "id": "ihYwKYZLlp-C"
      },
      "source": [
        "---\n",
        "#6 Bibliografía"
      ]
    }
  ]
}